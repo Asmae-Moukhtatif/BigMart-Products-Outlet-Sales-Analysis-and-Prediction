{
 "cells": [
  {
   "cell_type": "markdown",
   "id": "dbf04958-5f56-4b8d-909c-630ecf1ad539",
   "metadata": {},
   "source": [
    "# 1).Problem Statement"
   ]
  },
  {
   "cell_type": "markdown",
   "id": "0014e560-4a99-44db-b080-878426174074",
   "metadata": {},
   "source": [
    "### Understanding the properties of product sales at different store"
   ]
  },
  {
   "cell_type": "markdown",
   "id": "14a3e8a2-9dd2-41b7-85a4-b287cee3818c",
   "metadata": {},
   "source": [
    "# 2).Hypothesis Generation"
   ]
  },
  {
   "cell_type": "code",
   "execution_count": null,
   "id": "8083f59f-db4f-4cfe-875e-58b6baec9704",
   "metadata": {},
   "outputs": [],
   "source": []
  },
  {
   "cell_type": "markdown",
   "id": "28ce6a50-8fb3-4b49-8ea2-76a267cf9efe",
   "metadata": {},
   "source": [
    "# Loading Packages and Data"
   ]
  },
  {
   "cell_type": "code",
   "execution_count": 1,
   "id": "4aec8ace-7117-4577-ae54-7b513d99edf8",
   "metadata": {},
   "outputs": [],
   "source": [
    "#import libraries \n",
    "import pandas as pd \n",
    "import numpy as np\n",
    "import matplotlib.pyplot as plt"
   ]
  },
  {
   "cell_type": "code",
   "execution_count": 2,
   "id": "da706887-1c63-462e-80c6-d8cb98db379b",
   "metadata": {},
   "outputs": [],
   "source": [
    "#df_test = pd.read_csv(\"Test.csv\")"
   ]
  },
  {
   "cell_type": "code",
   "execution_count": 3,
   "id": "4d8e9c12-d63f-47ed-ad8a-793e7cd2c4a9",
   "metadata": {},
   "outputs": [],
   "source": [
    "df = pd.read_csv(\"Train.csv\")"
   ]
  },
  {
   "cell_type": "code",
   "execution_count": 4,
   "id": "a283fc99-63d5-4d68-b0f7-4ba57511121a",
   "metadata": {},
   "outputs": [],
   "source": [
    "#df = pd.concat([df_train,df_test])"
   ]
  },
  {
   "cell_type": "markdown",
   "id": "e46c1246-462f-4dbe-880b-7cdcbb0ab9a5",
   "metadata": {},
   "source": [
    "# Data Structure and Content"
   ]
  },
  {
   "cell_type": "code",
   "execution_count": 5,
   "id": "3d7ec70d-cfc1-4091-a04c-e7233c66c4fe",
   "metadata": {},
   "outputs": [
    {
     "data": {
      "text/html": [
       "<div>\n",
       "<style scoped>\n",
       "    .dataframe tbody tr th:only-of-type {\n",
       "        vertical-align: middle;\n",
       "    }\n",
       "\n",
       "    .dataframe tbody tr th {\n",
       "        vertical-align: top;\n",
       "    }\n",
       "\n",
       "    .dataframe thead th {\n",
       "        text-align: right;\n",
       "    }\n",
       "</style>\n",
       "<table border=\"1\" class=\"dataframe\">\n",
       "  <thead>\n",
       "    <tr style=\"text-align: right;\">\n",
       "      <th></th>\n",
       "      <th>Item_Identifier</th>\n",
       "      <th>Item_Weight</th>\n",
       "      <th>Item_Fat_Content</th>\n",
       "      <th>Item_Visibility</th>\n",
       "      <th>Item_Type</th>\n",
       "      <th>Item_MRP</th>\n",
       "      <th>Outlet_Identifier</th>\n",
       "      <th>Outlet_Establishment_Year</th>\n",
       "      <th>Outlet_Size</th>\n",
       "      <th>Outlet_Location_Type</th>\n",
       "      <th>Outlet_Type</th>\n",
       "      <th>Item_Outlet_Sales</th>\n",
       "    </tr>\n",
       "  </thead>\n",
       "  <tbody>\n",
       "    <tr>\n",
       "      <th>0</th>\n",
       "      <td>FDA15</td>\n",
       "      <td>9.30</td>\n",
       "      <td>Low Fat</td>\n",
       "      <td>0.016047</td>\n",
       "      <td>Dairy</td>\n",
       "      <td>249.8092</td>\n",
       "      <td>OUT049</td>\n",
       "      <td>1999</td>\n",
       "      <td>Medium</td>\n",
       "      <td>Tier 1</td>\n",
       "      <td>Supermarket Type1</td>\n",
       "      <td>3735.1380</td>\n",
       "    </tr>\n",
       "    <tr>\n",
       "      <th>1</th>\n",
       "      <td>DRC01</td>\n",
       "      <td>5.92</td>\n",
       "      <td>Regular</td>\n",
       "      <td>0.019278</td>\n",
       "      <td>Soft Drinks</td>\n",
       "      <td>48.2692</td>\n",
       "      <td>OUT018</td>\n",
       "      <td>2009</td>\n",
       "      <td>Medium</td>\n",
       "      <td>Tier 3</td>\n",
       "      <td>Supermarket Type2</td>\n",
       "      <td>443.4228</td>\n",
       "    </tr>\n",
       "    <tr>\n",
       "      <th>2</th>\n",
       "      <td>FDN15</td>\n",
       "      <td>17.50</td>\n",
       "      <td>Low Fat</td>\n",
       "      <td>0.016760</td>\n",
       "      <td>Meat</td>\n",
       "      <td>141.6180</td>\n",
       "      <td>OUT049</td>\n",
       "      <td>1999</td>\n",
       "      <td>Medium</td>\n",
       "      <td>Tier 1</td>\n",
       "      <td>Supermarket Type1</td>\n",
       "      <td>2097.2700</td>\n",
       "    </tr>\n",
       "    <tr>\n",
       "      <th>3</th>\n",
       "      <td>FDX07</td>\n",
       "      <td>19.20</td>\n",
       "      <td>Regular</td>\n",
       "      <td>0.000000</td>\n",
       "      <td>Fruits and Vegetables</td>\n",
       "      <td>182.0950</td>\n",
       "      <td>OUT010</td>\n",
       "      <td>1998</td>\n",
       "      <td>NaN</td>\n",
       "      <td>Tier 3</td>\n",
       "      <td>Grocery Store</td>\n",
       "      <td>732.3800</td>\n",
       "    </tr>\n",
       "    <tr>\n",
       "      <th>4</th>\n",
       "      <td>NCD19</td>\n",
       "      <td>8.93</td>\n",
       "      <td>Low Fat</td>\n",
       "      <td>0.000000</td>\n",
       "      <td>Household</td>\n",
       "      <td>53.8614</td>\n",
       "      <td>OUT013</td>\n",
       "      <td>1987</td>\n",
       "      <td>High</td>\n",
       "      <td>Tier 3</td>\n",
       "      <td>Supermarket Type1</td>\n",
       "      <td>994.7052</td>\n",
       "    </tr>\n",
       "  </tbody>\n",
       "</table>\n",
       "</div>"
      ],
      "text/plain": [
       "  Item_Identifier  Item_Weight Item_Fat_Content  Item_Visibility  \\\n",
       "0           FDA15         9.30          Low Fat         0.016047   \n",
       "1           DRC01         5.92          Regular         0.019278   \n",
       "2           FDN15        17.50          Low Fat         0.016760   \n",
       "3           FDX07        19.20          Regular         0.000000   \n",
       "4           NCD19         8.93          Low Fat         0.000000   \n",
       "\n",
       "               Item_Type  Item_MRP Outlet_Identifier  \\\n",
       "0                  Dairy  249.8092            OUT049   \n",
       "1            Soft Drinks   48.2692            OUT018   \n",
       "2                   Meat  141.6180            OUT049   \n",
       "3  Fruits and Vegetables  182.0950            OUT010   \n",
       "4              Household   53.8614            OUT013   \n",
       "\n",
       "   Outlet_Establishment_Year Outlet_Size Outlet_Location_Type  \\\n",
       "0                       1999      Medium               Tier 1   \n",
       "1                       2009      Medium               Tier 3   \n",
       "2                       1999      Medium               Tier 1   \n",
       "3                       1998         NaN               Tier 3   \n",
       "4                       1987        High               Tier 3   \n",
       "\n",
       "         Outlet_Type  Item_Outlet_Sales  \n",
       "0  Supermarket Type1          3735.1380  \n",
       "1  Supermarket Type2           443.4228  \n",
       "2  Supermarket Type1          2097.2700  \n",
       "3      Grocery Store           732.3800  \n",
       "4  Supermarket Type1           994.7052  "
      ]
     },
     "execution_count": 5,
     "metadata": {},
     "output_type": "execute_result"
    }
   ],
   "source": [
    "df.head()"
   ]
  },
  {
   "cell_type": "code",
   "execution_count": 6,
   "id": "7b040d86-9994-4135-aa9b-419db4eaa410",
   "metadata": {},
   "outputs": [
    {
     "data": {
      "text/plain": [
       "(8523, 12)"
      ]
     },
     "execution_count": 6,
     "metadata": {},
     "output_type": "execute_result"
    }
   ],
   "source": [
    "df.shape"
   ]
  },
  {
   "cell_type": "code",
   "execution_count": 7,
   "id": "44342ca7-5526-4e95-abf6-392a80f4f359",
   "metadata": {},
   "outputs": [
    {
     "data": {
      "text/plain": [
       "Item_Identifier               object\n",
       "Item_Weight                  float64\n",
       "Item_Fat_Content              object\n",
       "Item_Visibility              float64\n",
       "Item_Type                     object\n",
       "Item_MRP                     float64\n",
       "Outlet_Identifier             object\n",
       "Outlet_Establishment_Year      int64\n",
       "Outlet_Size                   object\n",
       "Outlet_Location_Type          object\n",
       "Outlet_Type                   object\n",
       "Item_Outlet_Sales            float64\n",
       "dtype: object"
      ]
     },
     "execution_count": 7,
     "metadata": {},
     "output_type": "execute_result"
    }
   ],
   "source": [
    "df.dtypes"
   ]
  },
  {
   "cell_type": "code",
   "execution_count": 8,
   "id": "03911a34-083d-4128-a67b-aa267c4768f8",
   "metadata": {},
   "outputs": [
    {
     "name": "stdout",
     "output_type": "stream",
     "text": [
      "<class 'pandas.core.frame.DataFrame'>\n",
      "RangeIndex: 8523 entries, 0 to 8522\n",
      "Data columns (total 12 columns):\n",
      " #   Column                     Non-Null Count  Dtype  \n",
      "---  ------                     --------------  -----  \n",
      " 0   Item_Identifier            8523 non-null   object \n",
      " 1   Item_Weight                7060 non-null   float64\n",
      " 2   Item_Fat_Content           8523 non-null   object \n",
      " 3   Item_Visibility            8523 non-null   float64\n",
      " 4   Item_Type                  8523 non-null   object \n",
      " 5   Item_MRP                   8523 non-null   float64\n",
      " 6   Outlet_Identifier          8523 non-null   object \n",
      " 7   Outlet_Establishment_Year  8523 non-null   int64  \n",
      " 8   Outlet_Size                6113 non-null   object \n",
      " 9   Outlet_Location_Type       8523 non-null   object \n",
      " 10  Outlet_Type                8523 non-null   object \n",
      " 11  Item_Outlet_Sales          8523 non-null   float64\n",
      "dtypes: float64(4), int64(1), object(7)\n",
      "memory usage: 799.2+ KB\n"
     ]
    }
   ],
   "source": [
    "df.info()"
   ]
  },
  {
   "cell_type": "code",
   "execution_count": 9,
   "id": "e1919657-073f-40eb-bad3-6f7dc993d3d3",
   "metadata": {},
   "outputs": [
    {
     "data": {
      "text/html": [
       "<div>\n",
       "<style scoped>\n",
       "    .dataframe tbody tr th:only-of-type {\n",
       "        vertical-align: middle;\n",
       "    }\n",
       "\n",
       "    .dataframe tbody tr th {\n",
       "        vertical-align: top;\n",
       "    }\n",
       "\n",
       "    .dataframe thead th {\n",
       "        text-align: right;\n",
       "    }\n",
       "</style>\n",
       "<table border=\"1\" class=\"dataframe\">\n",
       "  <thead>\n",
       "    <tr style=\"text-align: right;\">\n",
       "      <th></th>\n",
       "      <th>Item_Weight</th>\n",
       "      <th>Item_Visibility</th>\n",
       "      <th>Item_MRP</th>\n",
       "      <th>Outlet_Establishment_Year</th>\n",
       "      <th>Item_Outlet_Sales</th>\n",
       "    </tr>\n",
       "  </thead>\n",
       "  <tbody>\n",
       "    <tr>\n",
       "      <th>count</th>\n",
       "      <td>7060.000000</td>\n",
       "      <td>8523.000000</td>\n",
       "      <td>8523.000000</td>\n",
       "      <td>8523.000000</td>\n",
       "      <td>8523.000000</td>\n",
       "    </tr>\n",
       "    <tr>\n",
       "      <th>mean</th>\n",
       "      <td>12.857645</td>\n",
       "      <td>0.066132</td>\n",
       "      <td>140.992782</td>\n",
       "      <td>1997.831867</td>\n",
       "      <td>2181.288914</td>\n",
       "    </tr>\n",
       "    <tr>\n",
       "      <th>std</th>\n",
       "      <td>4.643456</td>\n",
       "      <td>0.051598</td>\n",
       "      <td>62.275067</td>\n",
       "      <td>8.371760</td>\n",
       "      <td>1706.499616</td>\n",
       "    </tr>\n",
       "    <tr>\n",
       "      <th>min</th>\n",
       "      <td>4.555000</td>\n",
       "      <td>0.000000</td>\n",
       "      <td>31.290000</td>\n",
       "      <td>1985.000000</td>\n",
       "      <td>33.290000</td>\n",
       "    </tr>\n",
       "    <tr>\n",
       "      <th>25%</th>\n",
       "      <td>8.773750</td>\n",
       "      <td>0.026989</td>\n",
       "      <td>93.826500</td>\n",
       "      <td>1987.000000</td>\n",
       "      <td>834.247400</td>\n",
       "    </tr>\n",
       "    <tr>\n",
       "      <th>50%</th>\n",
       "      <td>12.600000</td>\n",
       "      <td>0.053931</td>\n",
       "      <td>143.012800</td>\n",
       "      <td>1999.000000</td>\n",
       "      <td>1794.331000</td>\n",
       "    </tr>\n",
       "    <tr>\n",
       "      <th>75%</th>\n",
       "      <td>16.850000</td>\n",
       "      <td>0.094585</td>\n",
       "      <td>185.643700</td>\n",
       "      <td>2004.000000</td>\n",
       "      <td>3101.296400</td>\n",
       "    </tr>\n",
       "    <tr>\n",
       "      <th>max</th>\n",
       "      <td>21.350000</td>\n",
       "      <td>0.328391</td>\n",
       "      <td>266.888400</td>\n",
       "      <td>2009.000000</td>\n",
       "      <td>13086.964800</td>\n",
       "    </tr>\n",
       "  </tbody>\n",
       "</table>\n",
       "</div>"
      ],
      "text/plain": [
       "       Item_Weight  Item_Visibility     Item_MRP  Outlet_Establishment_Year  \\\n",
       "count  7060.000000      8523.000000  8523.000000                8523.000000   \n",
       "mean     12.857645         0.066132   140.992782                1997.831867   \n",
       "std       4.643456         0.051598    62.275067                   8.371760   \n",
       "min       4.555000         0.000000    31.290000                1985.000000   \n",
       "25%       8.773750         0.026989    93.826500                1987.000000   \n",
       "50%      12.600000         0.053931   143.012800                1999.000000   \n",
       "75%      16.850000         0.094585   185.643700                2004.000000   \n",
       "max      21.350000         0.328391   266.888400                2009.000000   \n",
       "\n",
       "       Item_Outlet_Sales  \n",
       "count        8523.000000  \n",
       "mean         2181.288914  \n",
       "std          1706.499616  \n",
       "min            33.290000  \n",
       "25%           834.247400  \n",
       "50%          1794.331000  \n",
       "75%          3101.296400  \n",
       "max         13086.964800  "
      ]
     },
     "execution_count": 9,
     "metadata": {},
     "output_type": "execute_result"
    }
   ],
   "source": [
    "#The described method will help to see how data has been spread for numerical values.\n",
    "df.describe()"
   ]
  },
  {
   "cell_type": "markdown",
   "id": "95b51185-3b2e-44f6-85c3-487dc389c05c",
   "metadata": {},
   "source": [
    "# Exploratory Data Analysis"
   ]
  },
  {
   "cell_type": "markdown",
   "id": "bc4f25b4-b7c1-450c-aedd-411b8dafd6e4",
   "metadata": {},
   "source": [
    "### Data Consistency"
   ]
  },
  {
   "cell_type": "code",
   "execution_count": 10,
   "id": "f0a755fa-bd0b-44a5-b3bb-64f27b1b5cc9",
   "metadata": {},
   "outputs": [
    {
     "data": {
      "text/plain": [
       "array(['Low Fat', 'Regular', 'low fat', 'LF', 'reg'], dtype=object)"
      ]
     },
     "execution_count": 10,
     "metadata": {},
     "output_type": "execute_result"
    }
   ],
   "source": [
    "# get all the unique values in the 'Item_Fat_Content' column\n",
    "Item_Fat_Content_unq =df.Item_Fat_Content.unique()\n",
    "Item_Fat_Content_unq"
   ]
  },
  {
   "cell_type": "code",
   "execution_count": 11,
   "id": "78b8fa73-3b58-4133-897a-0c50a63992c8",
   "metadata": {},
   "outputs": [
    {
     "data": {
      "text/plain": [
       "array(['LF', 'Low Fat', 'Regular', 'low fat', 'reg'], dtype=object)"
      ]
     },
     "execution_count": 11,
     "metadata": {},
     "output_type": "execute_result"
    }
   ],
   "source": [
    "# sort them alphabetically and then take a closer look\n",
    "Item_Fat_Content_unq.sort()\n",
    "Item_Fat_Content_unq"
   ]
  },
  {
   "cell_type": "code",
   "execution_count": 12,
   "id": "99355302-4227-4c96-8b8b-c783aeda4840",
   "metadata": {},
   "outputs": [],
   "source": [
    "# convert to lower case\n",
    "df.Item_Fat_Content = df.Item_Fat_Content.str.lower()\n",
    "# remove trailing white spaces\n",
    "df.Item_Fat_Content = df.Item_Fat_Content.str.strip()"
   ]
  },
  {
   "cell_type": "markdown",
   "id": "e8dc6e61-d7fb-4fc7-be34-45f581fb3d55",
   "metadata": {
    "tags": []
   },
   "source": [
    "## Use fuzzy matching to correct inconsistent data entry\n",
    "#### We're going to use the fuzzywuzzy package to help identify which strings are closest to each other"
   ]
  },
  {
   "cell_type": "code",
   "execution_count": 13,
   "id": "1ba74ca6-4345-4b0d-9372-bc68cf1ac08e",
   "metadata": {},
   "outputs": [],
   "source": [
    "import warnings\n",
    "warnings.filterwarnings('ignore')"
   ]
  },
  {
   "cell_type": "code",
   "execution_count": 14,
   "id": "77fdebd0-d0b2-4551-aba3-59d3c128fa34",
   "metadata": {},
   "outputs": [],
   "source": [
    "# helpful modules\n",
    "import fuzzywuzzy\n",
    "from fuzzywuzzy import process\n",
    "import chardet"
   ]
  },
  {
   "cell_type": "code",
   "execution_count": 15,
   "id": "7cc3eee7-b27d-4b2b-bca8-22e7fa568d2e",
   "metadata": {},
   "outputs": [
    {
     "data": {
      "text/plain": [
       "[('Low Fat', 100), ('low fat', 100), ('LF', 22), ('Regular', 14), ('reg', 0)]"
      ]
     },
     "execution_count": 15,
     "metadata": {},
     "output_type": "execute_result"
    }
   ],
   "source": [
    "# get the top 10 closest matches to \" low fat\"\n",
    "matches = fuzzywuzzy.process.extract(\"low fat\" ,Item_Fat_Content_unq , limit=5 , scorer=fuzzywuzzy.fuzz.token_sort_ratio)\n",
    "# take a closer look \n",
    "matches"
   ]
  },
  {
   "cell_type": "code",
   "execution_count": 16,
   "id": "7a0bf7c3-75a9-4766-b84f-8730332a6390",
   "metadata": {},
   "outputs": [
    {
     "data": {
      "text/plain": [
       "[('Regular', 100), ('reg', 60), ('LF', 22), ('Low Fat', 14), ('low fat', 14)]"
      ]
     },
     "execution_count": 16,
     "metadata": {},
     "output_type": "execute_result"
    }
   ],
   "source": [
    "# get the top 10 closest matches to \" low fat\"\n",
    "matches = fuzzywuzzy.process.extract(\"regular\" ,Item_Fat_Content_unq , limit=5 , scorer=fuzzywuzzy.fuzz.token_sort_ratio)\n",
    "# take a closer look \n",
    "matches"
   ]
  },
  {
   "cell_type": "code",
   "execution_count": 17,
   "id": "6310cebd-362b-40cb-9797-b4b79ef4ea4a",
   "metadata": {},
   "outputs": [],
   "source": [
    "# function to replace rows in the provided column of the provided dataframe\n",
    "# that match the provided string above the provided ratio with the provided string\n",
    "def replace_matches_in_column(df, column, string_to_match, min_ratio = 22):\n",
    "    # get a list of unique strings\n",
    "    strings = df[column].unique()\n",
    "    \n",
    "    # get the top 10 closest matches to our input string\n",
    "    matches = fuzzywuzzy.process.extract(string_to_match, strings, \n",
    "                                         limit=10, scorer=fuzzywuzzy.fuzz.token_sort_ratio)\n",
    "\n",
    "    # only get matches with a ratio > 90\n",
    "    close_matches = [matches[0] for matches in matches if matches[1] >= min_ratio]\n",
    "\n",
    "    # get the rows of all the close matches in our dataframe\n",
    "    rows_with_matches = df[column].isin(close_matches)\n",
    "\n",
    "    # replace all rows with close matches with the input matches \n",
    "    df.loc[rows_with_matches, column] = string_to_match\n",
    "    \n",
    "    # let us know the function's done\n",
    "    print(\"All done!\")"
   ]
  },
  {
   "cell_type": "code",
   "execution_count": 18,
   "id": "7a8848c3-87cc-4524-b370-4b7887d78018",
   "metadata": {},
   "outputs": [
    {
     "name": "stdout",
     "output_type": "stream",
     "text": [
      "All done!\n"
     ]
    }
   ],
   "source": [
    "replace_matches_in_column(df=df, column='Item_Fat_Content', string_to_match=\"low fat\")"
   ]
  },
  {
   "cell_type": "code",
   "execution_count": 19,
   "id": "b6ee64ca-9632-4990-b22f-17a94eb46ec8",
   "metadata": {},
   "outputs": [
    {
     "name": "stdout",
     "output_type": "stream",
     "text": [
      "All done!\n"
     ]
    }
   ],
   "source": [
    "replace_matches_in_column(df=df, column='Item_Fat_Content', string_to_match=\"regular\",min_ratio = 60)"
   ]
  },
  {
   "cell_type": "code",
   "execution_count": 20,
   "id": "7c3ae0a3-5331-441f-b6d6-742033216066",
   "metadata": {},
   "outputs": [
    {
     "data": {
      "text/plain": [
       "array(['low fat', 'regular'], dtype=object)"
      ]
     },
     "execution_count": 20,
     "metadata": {},
     "output_type": "execute_result"
    }
   ],
   "source": [
    "df.Item_Fat_Content.unique()"
   ]
  },
  {
   "cell_type": "code",
   "execution_count": 21,
   "id": "006a8680-cb6e-48e8-b9e4-627d831ed02d",
   "metadata": {},
   "outputs": [
    {
     "data": {
      "text/plain": [
       "array(['Dairy', 'Soft Drinks', 'Meat', 'Fruits and Vegetables',\n",
       "       'Household', 'Baking Goods', 'Snack Foods', 'Frozen Foods',\n",
       "       'Breakfast', 'Health and Hygiene', 'Hard Drinks', 'Canned',\n",
       "       'Breads', 'Starchy Foods', 'Others', 'Seafood'], dtype=object)"
      ]
     },
     "execution_count": 21,
     "metadata": {},
     "output_type": "execute_result"
    }
   ],
   "source": [
    "df.Item_Type.unique()"
   ]
  },
  {
   "cell_type": "code",
   "execution_count": 22,
   "id": "e91a9132-0f97-4d1a-aa1d-2afa9c2044d3",
   "metadata": {},
   "outputs": [
    {
     "data": {
      "text/plain": [
       "array(['Medium', nan, 'High', 'Small'], dtype=object)"
      ]
     },
     "execution_count": 22,
     "metadata": {},
     "output_type": "execute_result"
    }
   ],
   "source": [
    "df.Outlet_Size.unique()"
   ]
  },
  {
   "cell_type": "code",
   "execution_count": 23,
   "id": "d3a3f651-790c-43a4-9238-40eb1c04336f",
   "metadata": {},
   "outputs": [],
   "source": [
    "df[\"Outlet_Size\"] = df[\"Outlet_Size\"].str.lower()\n",
    "df[\"Outlet_Size\"] = df[\"Outlet_Size\"].str.strip()"
   ]
  },
  {
   "cell_type": "code",
   "execution_count": 24,
   "id": "c9416db9-efed-46f8-bf6d-b4855e87a838",
   "metadata": {},
   "outputs": [
    {
     "data": {
      "text/html": [
       "<div>\n",
       "<style scoped>\n",
       "    .dataframe tbody tr th:only-of-type {\n",
       "        vertical-align: middle;\n",
       "    }\n",
       "\n",
       "    .dataframe tbody tr th {\n",
       "        vertical-align: top;\n",
       "    }\n",
       "\n",
       "    .dataframe thead th {\n",
       "        text-align: right;\n",
       "    }\n",
       "</style>\n",
       "<table border=\"1\" class=\"dataframe\">\n",
       "  <thead>\n",
       "    <tr style=\"text-align: right;\">\n",
       "      <th></th>\n",
       "      <th>Item_Identifier</th>\n",
       "      <th>Item_Weight</th>\n",
       "      <th>Item_Fat_Content</th>\n",
       "      <th>Item_Visibility</th>\n",
       "      <th>Item_Type</th>\n",
       "      <th>Item_MRP</th>\n",
       "      <th>Outlet_Identifier</th>\n",
       "      <th>Outlet_Establishment_Year</th>\n",
       "      <th>Outlet_Size</th>\n",
       "      <th>Outlet_Location_Type</th>\n",
       "      <th>Outlet_Type</th>\n",
       "      <th>Item_Outlet_Sales</th>\n",
       "    </tr>\n",
       "  </thead>\n",
       "  <tbody>\n",
       "    <tr>\n",
       "      <th>0</th>\n",
       "      <td>FDA15</td>\n",
       "      <td>9.30</td>\n",
       "      <td>low fat</td>\n",
       "      <td>0.016047</td>\n",
       "      <td>Dairy</td>\n",
       "      <td>249.8092</td>\n",
       "      <td>OUT049</td>\n",
       "      <td>1999</td>\n",
       "      <td>medium</td>\n",
       "      <td>Tier 1</td>\n",
       "      <td>Supermarket Type1</td>\n",
       "      <td>3735.1380</td>\n",
       "    </tr>\n",
       "    <tr>\n",
       "      <th>1</th>\n",
       "      <td>DRC01</td>\n",
       "      <td>5.92</td>\n",
       "      <td>regular</td>\n",
       "      <td>0.019278</td>\n",
       "      <td>Soft Drinks</td>\n",
       "      <td>48.2692</td>\n",
       "      <td>OUT018</td>\n",
       "      <td>2009</td>\n",
       "      <td>medium</td>\n",
       "      <td>Tier 3</td>\n",
       "      <td>Supermarket Type2</td>\n",
       "      <td>443.4228</td>\n",
       "    </tr>\n",
       "    <tr>\n",
       "      <th>2</th>\n",
       "      <td>FDN15</td>\n",
       "      <td>17.50</td>\n",
       "      <td>low fat</td>\n",
       "      <td>0.016760</td>\n",
       "      <td>Meat</td>\n",
       "      <td>141.6180</td>\n",
       "      <td>OUT049</td>\n",
       "      <td>1999</td>\n",
       "      <td>medium</td>\n",
       "      <td>Tier 1</td>\n",
       "      <td>Supermarket Type1</td>\n",
       "      <td>2097.2700</td>\n",
       "    </tr>\n",
       "    <tr>\n",
       "      <th>3</th>\n",
       "      <td>FDX07</td>\n",
       "      <td>19.20</td>\n",
       "      <td>regular</td>\n",
       "      <td>0.000000</td>\n",
       "      <td>Fruits and Vegetables</td>\n",
       "      <td>182.0950</td>\n",
       "      <td>OUT010</td>\n",
       "      <td>1998</td>\n",
       "      <td>NaN</td>\n",
       "      <td>Tier 3</td>\n",
       "      <td>Grocery Store</td>\n",
       "      <td>732.3800</td>\n",
       "    </tr>\n",
       "    <tr>\n",
       "      <th>4</th>\n",
       "      <td>NCD19</td>\n",
       "      <td>8.93</td>\n",
       "      <td>low fat</td>\n",
       "      <td>0.000000</td>\n",
       "      <td>Household</td>\n",
       "      <td>53.8614</td>\n",
       "      <td>OUT013</td>\n",
       "      <td>1987</td>\n",
       "      <td>high</td>\n",
       "      <td>Tier 3</td>\n",
       "      <td>Supermarket Type1</td>\n",
       "      <td>994.7052</td>\n",
       "    </tr>\n",
       "  </tbody>\n",
       "</table>\n",
       "</div>"
      ],
      "text/plain": [
       "  Item_Identifier  Item_Weight Item_Fat_Content  Item_Visibility  \\\n",
       "0           FDA15         9.30          low fat         0.016047   \n",
       "1           DRC01         5.92          regular         0.019278   \n",
       "2           FDN15        17.50          low fat         0.016760   \n",
       "3           FDX07        19.20          regular         0.000000   \n",
       "4           NCD19         8.93          low fat         0.000000   \n",
       "\n",
       "               Item_Type  Item_MRP Outlet_Identifier  \\\n",
       "0                  Dairy  249.8092            OUT049   \n",
       "1            Soft Drinks   48.2692            OUT018   \n",
       "2                   Meat  141.6180            OUT049   \n",
       "3  Fruits and Vegetables  182.0950            OUT010   \n",
       "4              Household   53.8614            OUT013   \n",
       "\n",
       "   Outlet_Establishment_Year Outlet_Size Outlet_Location_Type  \\\n",
       "0                       1999      medium               Tier 1   \n",
       "1                       2009      medium               Tier 3   \n",
       "2                       1999      medium               Tier 1   \n",
       "3                       1998         NaN               Tier 3   \n",
       "4                       1987        high               Tier 3   \n",
       "\n",
       "         Outlet_Type  Item_Outlet_Sales  \n",
       "0  Supermarket Type1          3735.1380  \n",
       "1  Supermarket Type2           443.4228  \n",
       "2  Supermarket Type1          2097.2700  \n",
       "3      Grocery Store           732.3800  \n",
       "4  Supermarket Type1           994.7052  "
      ]
     },
     "execution_count": 24,
     "metadata": {},
     "output_type": "execute_result"
    }
   ],
   "source": [
    "df.head()"
   ]
  },
  {
   "cell_type": "markdown",
   "id": "65f3c108-dfd6-45ed-9e2f-5bf6b9e07b05",
   "metadata": {
    "tags": []
   },
   "source": [
    "# Missing Value Treatment"
   ]
  },
  {
   "cell_type": "markdown",
   "id": "ea2b2b18-c7e0-4805-9433-841029f3d343",
   "metadata": {
    "tags": []
   },
   "source": [
    "#### It might be helpful to see what percentage of the values in our dataset were missing to give us a better sense of the scale of this problem:"
   ]
  },
  {
   "cell_type": "code",
   "execution_count": 25,
   "id": "7699a040-bd92-4988-8064-0aff113eeb21",
   "metadata": {},
   "outputs": [
    {
     "name": "stdout",
     "output_type": "stream",
     "text": [
      "<class 'pandas.core.frame.DataFrame'>\n",
      "RangeIndex: 8523 entries, 0 to 8522\n",
      "Data columns (total 12 columns):\n",
      " #   Column                     Non-Null Count  Dtype  \n",
      "---  ------                     --------------  -----  \n",
      " 0   Item_Identifier            8523 non-null   object \n",
      " 1   Item_Weight                7060 non-null   float64\n",
      " 2   Item_Fat_Content           8523 non-null   object \n",
      " 3   Item_Visibility            8523 non-null   float64\n",
      " 4   Item_Type                  8523 non-null   object \n",
      " 5   Item_MRP                   8523 non-null   float64\n",
      " 6   Outlet_Identifier          8523 non-null   object \n",
      " 7   Outlet_Establishment_Year  8523 non-null   int64  \n",
      " 8   Outlet_Size                6113 non-null   object \n",
      " 9   Outlet_Location_Type       8523 non-null   object \n",
      " 10  Outlet_Type                8523 non-null   object \n",
      " 11  Item_Outlet_Sales          8523 non-null   float64\n",
      "dtypes: float64(4), int64(1), object(7)\n",
      "memory usage: 799.2+ KB\n"
     ]
    }
   ],
   "source": [
    "df.info()"
   ]
  },
  {
   "cell_type": "code",
   "execution_count": 26,
   "id": "9b59a2bd-8eb3-4795-abfc-de3de54a6746",
   "metadata": {},
   "outputs": [
    {
     "data": {
      "text/plain": [
       "Item_Identifier                 0\n",
       "Item_Weight                  1463\n",
       "Item_Fat_Content                0\n",
       "Item_Visibility                 0\n",
       "Item_Type                       0\n",
       "Item_MRP                        0\n",
       "Outlet_Identifier               0\n",
       "Outlet_Establishment_Year       0\n",
       "Outlet_Size                  2410\n",
       "Outlet_Location_Type            0\n",
       "Outlet_Type                     0\n",
       "Item_Outlet_Sales               0\n",
       "dtype: int64"
      ]
     },
     "execution_count": 26,
     "metadata": {},
     "output_type": "execute_result"
    }
   ],
   "source": [
    "missing_values_count = df.isnull().sum()\n",
    "missing_values_count"
   ]
  },
  {
   "cell_type": "markdown",
   "id": "0881e036-94be-48d9-a640-b025691a97bf",
   "metadata": {},
   "source": [
    "## how many total missing values do we have?\n"
   ]
  },
  {
   "cell_type": "code",
   "execution_count": 27,
   "id": "f75a0474-bbad-4f3e-9e7d-c833b144ef8b",
   "metadata": {},
   "outputs": [
    {
     "name": "stdout",
     "output_type": "stream",
     "text": [
      "3.786812155344362\n"
     ]
    }
   ],
   "source": [
    "total_cells = np.product(df.shape)\n",
    "total_missing = missing_values_count.sum()\n",
    "\n",
    "percentage = (total_missing/total_cells)*100\n",
    "print(percentage)"
   ]
  },
  {
   "cell_type": "markdown",
   "id": "0180b3ec-fe87-4455-98de-cea15027df33",
   "metadata": {},
   "source": [
    "### Filling in missing values automatically"
   ]
  },
  {
   "cell_type": "markdown",
   "id": "5085365d-3b65-4d44-b9de-6683b3659b6b",
   "metadata": {},
   "source": [
    "#### we notice that missing values are only in 2 columns which is \"Item_Weight\"  and \"Outlet_Size \"\n",
    "#### we need to know how to deal with these missing values ( know if there are not exist or not recorded )\n",
    "#### if we look at these 2 columns we notice that they are just not recorded"
   ]
  },
  {
   "cell_type": "code",
   "execution_count": 28,
   "id": "db4c0696-dbcb-4e79-a5ab-92fba2b391c2",
   "metadata": {},
   "outputs": [
    {
     "data": {
      "text/plain": [
       "17.165317376510618"
      ]
     },
     "execution_count": 28,
     "metadata": {},
     "output_type": "execute_result"
    }
   ],
   "source": [
    "(df.Item_Weight.isnull().sum()/df.shape[0])*100"
   ]
  },
  {
   "cell_type": "code",
   "execution_count": 29,
   "id": "7a536a9e-18a9-4eb1-9335-3140f6845e4e",
   "metadata": {},
   "outputs": [
    {
     "data": {
      "text/plain": [
       "28.27642848762173"
      ]
     },
     "execution_count": 29,
     "metadata": {},
     "output_type": "execute_result"
    }
   ],
   "source": [
    "(df.Outlet_Size.isnull().sum()/df.shape[0])*100"
   ]
  },
  {
   "cell_type": "markdown",
   "id": "7cf45ad4-8cd7-46a4-9662-a73dc7dc6322",
   "metadata": {
    "tags": []
   },
   "source": [
    "### I think the best practice is\n",
    "### replace all NA's with the median for the numeric column \n",
    "### then replace all the NA's  with the mode for the categorical column "
   ]
  },
  {
   "cell_type": "code",
   "execution_count": 30,
   "id": "3eb4cb82-a789-4b4b-be45-ea9f442cffc1",
   "metadata": {},
   "outputs": [],
   "source": [
    "df.Item_Weight = df.Item_Weight.fillna(df.Item_Weight.mean())"
   ]
  },
  {
   "cell_type": "code",
   "execution_count": 31,
   "id": "24d44bc4-3c88-4610-8dfd-6876420be171",
   "metadata": {},
   "outputs": [
    {
     "data": {
      "text/plain": [
       "0"
      ]
     },
     "execution_count": 31,
     "metadata": {},
     "output_type": "execute_result"
    }
   ],
   "source": [
    "df.Item_Weight.isna().sum()"
   ]
  },
  {
   "cell_type": "code",
   "execution_count": 32,
   "id": "7e7ebcc6-0784-4edb-afdf-6f8362ce24eb",
   "metadata": {},
   "outputs": [
    {
     "data": {
      "text/plain": [
       "0    medium\n",
       "Name: Outlet_Size, dtype: object"
      ]
     },
     "execution_count": 32,
     "metadata": {},
     "output_type": "execute_result"
    }
   ],
   "source": [
    "Outlet_Size_mode =  df.Outlet_Size.mode()\n",
    "Outlet_Size_mode"
   ]
  },
  {
   "cell_type": "code",
   "execution_count": 33,
   "id": "ddb89cc3-8add-44b8-9205-4beaaf28be68",
   "metadata": {},
   "outputs": [],
   "source": [
    "df[\"Outlet_Size\"] = df[\"Outlet_Size\"].fillna(method='bfill', axis=0)"
   ]
  },
  {
   "cell_type": "code",
   "execution_count": 34,
   "id": "27b46fc9-9d3f-4149-9129-175ec32852c7",
   "metadata": {},
   "outputs": [
    {
     "data": {
      "text/plain": [
       "0"
      ]
     },
     "execution_count": 34,
     "metadata": {},
     "output_type": "execute_result"
    }
   ],
   "source": [
    "df[\"Outlet_Size\"].isna().sum()"
   ]
  },
  {
   "cell_type": "code",
   "execution_count": 35,
   "id": "0f2e5f6d-926a-4652-a714-6919ad5444ae",
   "metadata": {},
   "outputs": [
    {
     "data": {
      "text/html": [
       "<div>\n",
       "<style scoped>\n",
       "    .dataframe tbody tr th:only-of-type {\n",
       "        vertical-align: middle;\n",
       "    }\n",
       "\n",
       "    .dataframe tbody tr th {\n",
       "        vertical-align: top;\n",
       "    }\n",
       "\n",
       "    .dataframe thead th {\n",
       "        text-align: right;\n",
       "    }\n",
       "</style>\n",
       "<table border=\"1\" class=\"dataframe\">\n",
       "  <thead>\n",
       "    <tr style=\"text-align: right;\">\n",
       "      <th></th>\n",
       "      <th>Item_Identifier</th>\n",
       "      <th>Item_Weight</th>\n",
       "      <th>Item_Fat_Content</th>\n",
       "      <th>Item_Visibility</th>\n",
       "      <th>Item_Type</th>\n",
       "      <th>Item_MRP</th>\n",
       "      <th>Outlet_Identifier</th>\n",
       "      <th>Outlet_Establishment_Year</th>\n",
       "      <th>Outlet_Size</th>\n",
       "      <th>Outlet_Location_Type</th>\n",
       "      <th>Outlet_Type</th>\n",
       "      <th>Item_Outlet_Sales</th>\n",
       "    </tr>\n",
       "  </thead>\n",
       "  <tbody>\n",
       "    <tr>\n",
       "      <th>0</th>\n",
       "      <td>FDA15</td>\n",
       "      <td>9.30</td>\n",
       "      <td>low fat</td>\n",
       "      <td>0.016047</td>\n",
       "      <td>Dairy</td>\n",
       "      <td>249.8092</td>\n",
       "      <td>OUT049</td>\n",
       "      <td>1999</td>\n",
       "      <td>medium</td>\n",
       "      <td>Tier 1</td>\n",
       "      <td>Supermarket Type1</td>\n",
       "      <td>3735.1380</td>\n",
       "    </tr>\n",
       "    <tr>\n",
       "      <th>1</th>\n",
       "      <td>DRC01</td>\n",
       "      <td>5.92</td>\n",
       "      <td>regular</td>\n",
       "      <td>0.019278</td>\n",
       "      <td>Soft Drinks</td>\n",
       "      <td>48.2692</td>\n",
       "      <td>OUT018</td>\n",
       "      <td>2009</td>\n",
       "      <td>medium</td>\n",
       "      <td>Tier 3</td>\n",
       "      <td>Supermarket Type2</td>\n",
       "      <td>443.4228</td>\n",
       "    </tr>\n",
       "    <tr>\n",
       "      <th>2</th>\n",
       "      <td>FDN15</td>\n",
       "      <td>17.50</td>\n",
       "      <td>low fat</td>\n",
       "      <td>0.016760</td>\n",
       "      <td>Meat</td>\n",
       "      <td>141.6180</td>\n",
       "      <td>OUT049</td>\n",
       "      <td>1999</td>\n",
       "      <td>medium</td>\n",
       "      <td>Tier 1</td>\n",
       "      <td>Supermarket Type1</td>\n",
       "      <td>2097.2700</td>\n",
       "    </tr>\n",
       "    <tr>\n",
       "      <th>3</th>\n",
       "      <td>FDX07</td>\n",
       "      <td>19.20</td>\n",
       "      <td>regular</td>\n",
       "      <td>0.000000</td>\n",
       "      <td>Fruits and Vegetables</td>\n",
       "      <td>182.0950</td>\n",
       "      <td>OUT010</td>\n",
       "      <td>1998</td>\n",
       "      <td>high</td>\n",
       "      <td>Tier 3</td>\n",
       "      <td>Grocery Store</td>\n",
       "      <td>732.3800</td>\n",
       "    </tr>\n",
       "    <tr>\n",
       "      <th>4</th>\n",
       "      <td>NCD19</td>\n",
       "      <td>8.93</td>\n",
       "      <td>low fat</td>\n",
       "      <td>0.000000</td>\n",
       "      <td>Household</td>\n",
       "      <td>53.8614</td>\n",
       "      <td>OUT013</td>\n",
       "      <td>1987</td>\n",
       "      <td>high</td>\n",
       "      <td>Tier 3</td>\n",
       "      <td>Supermarket Type1</td>\n",
       "      <td>994.7052</td>\n",
       "    </tr>\n",
       "  </tbody>\n",
       "</table>\n",
       "</div>"
      ],
      "text/plain": [
       "  Item_Identifier  Item_Weight Item_Fat_Content  Item_Visibility  \\\n",
       "0           FDA15         9.30          low fat         0.016047   \n",
       "1           DRC01         5.92          regular         0.019278   \n",
       "2           FDN15        17.50          low fat         0.016760   \n",
       "3           FDX07        19.20          regular         0.000000   \n",
       "4           NCD19         8.93          low fat         0.000000   \n",
       "\n",
       "               Item_Type  Item_MRP Outlet_Identifier  \\\n",
       "0                  Dairy  249.8092            OUT049   \n",
       "1            Soft Drinks   48.2692            OUT018   \n",
       "2                   Meat  141.6180            OUT049   \n",
       "3  Fruits and Vegetables  182.0950            OUT010   \n",
       "4              Household   53.8614            OUT013   \n",
       "\n",
       "   Outlet_Establishment_Year Outlet_Size Outlet_Location_Type  \\\n",
       "0                       1999      medium               Tier 1   \n",
       "1                       2009      medium               Tier 3   \n",
       "2                       1999      medium               Tier 1   \n",
       "3                       1998        high               Tier 3   \n",
       "4                       1987        high               Tier 3   \n",
       "\n",
       "         Outlet_Type  Item_Outlet_Sales  \n",
       "0  Supermarket Type1          3735.1380  \n",
       "1  Supermarket Type2           443.4228  \n",
       "2  Supermarket Type1          2097.2700  \n",
       "3      Grocery Store           732.3800  \n",
       "4  Supermarket Type1           994.7052  "
      ]
     },
     "execution_count": 35,
     "metadata": {},
     "output_type": "execute_result"
    }
   ],
   "source": [
    "df.head()"
   ]
  },
  {
   "cell_type": "markdown",
   "id": "d0d92e9b-1baa-4fbe-9f09-7baa156533d9",
   "metadata": {},
   "source": [
    "### Remove duplicates"
   ]
  },
  {
   "cell_type": "code",
   "execution_count": 36,
   "id": "535dae5f-2ccf-4391-ae1f-dbe8cc80205f",
   "metadata": {},
   "outputs": [],
   "source": [
    "df = df.drop_duplicates()"
   ]
  },
  {
   "cell_type": "markdown",
   "id": "593bc911-271f-4eff-9d17-c585e2dd8f37",
   "metadata": {},
   "source": [
    "# Outliers"
   ]
  },
  {
   "cell_type": "markdown",
   "id": "4b1c1003-fd67-40ea-8a38-07e45f724354",
   "metadata": {},
   "source": [
    "## IQR (Inter Quartile Range)"
   ]
  },
  {
   "cell_type": "code",
   "execution_count": 37,
   "id": "ba098196-c55a-4e55-b57d-e62b0e74bd5e",
   "metadata": {},
   "outputs": [
    {
     "name": "stdout",
     "output_type": "stream",
     "text": [
      "Old Shape:  (8523, 12)\n",
      "New Shape:  (8523, 12)\n"
     ]
    }
   ],
   "source": [
    "#''' Detection '''\n",
    "# IQR\n",
    "Q1 = np.percentile(df['Item_MRP'], 25,\n",
    "                   interpolation = 'midpoint')\n",
    " \n",
    "Q3 = np.percentile(df['Item_MRP'], 75,\n",
    "                   interpolation = 'midpoint')\n",
    "IQR = Q3 - Q1\n",
    " \n",
    "print(\"Old Shape: \", df.shape)\n",
    " \n",
    "# Upper bound\n",
    "upper = np.where(df['Item_MRP']>= (Q3+1.5*IQR))\n",
    "# Lower bound\n",
    "lower = np.where(df['Item_MRP'] <= (Q1-1.5*IQR))\n",
    " \n",
    "''' Removing the Outliers '''\n",
    "df.drop(upper[0], inplace = True)\n",
    "df.drop(lower[0], inplace = True)\n",
    " \n",
    "print(\"New Shape: \", df.shape)"
   ]
  },
  {
   "cell_type": "code",
   "execution_count": 38,
   "id": "f95210b7-9132-4d71-9128-7eeec49ea6e1",
   "metadata": {},
   "outputs": [
    {
     "name": "stdout",
     "output_type": "stream",
     "text": [
      "Old Shape:  (8523, 12)\n",
      "New Shape:  (8379, 12)\n"
     ]
    }
   ],
   "source": [
    "#''' Detection '''\n",
    "# IQR\n",
    "Q1 = np.percentile(df['Item_Visibility'], 25,\n",
    "                   interpolation = 'midpoint')\n",
    " \n",
    "Q3 = np.percentile(df['Item_Visibility'], 75,\n",
    "                   interpolation = 'midpoint')\n",
    "IQR = Q3 - Q1\n",
    " \n",
    "print(\"Old Shape: \", df.shape)\n",
    " \n",
    "# Upper bound\n",
    "upper = np.where(df['Item_Visibility']>= (Q3+1.5*IQR))\n",
    "# Lower bound\n",
    "lower = np.where(df['Item_Visibility'] <= (Q1-1.5*IQR))\n",
    " \n",
    "''' Removing the Outliers '''\n",
    "df.drop(upper[0], inplace = True)\n",
    "df.drop(lower[0], inplace = True)\n",
    " \n",
    "print(\"New Shape: \", df.shape)"
   ]
  },
  {
   "cell_type": "code",
   "execution_count": 39,
   "id": "a67929f3-080a-43e9-99ea-8fb4680e09a1",
   "metadata": {},
   "outputs": [
    {
     "name": "stdout",
     "output_type": "stream",
     "text": [
      "Old Shape:  (8379, 12)\n",
      "New Shape:  (8193, 12)\n"
     ]
    }
   ],
   "source": [
    "#''' Detection '''\n",
    "# IQR\n",
    "Q1 = np.percentile(df['Item_Outlet_Sales'], 25,\n",
    "                   interpolation = 'midpoint')\n",
    " \n",
    "Q3 = np.percentile(df['Item_Outlet_Sales'], 75,\n",
    "                   interpolation = 'midpoint')\n",
    "IQR = Q3 - Q1\n",
    " \n",
    "print(\"Old Shape: \", df.shape)\n",
    " \n",
    "# Upper bound\n",
    "upper = np.where(df['Item_Outlet_Sales']>= (Q3+1.5*IQR))\n",
    "# Lower bound\n",
    "lower = np.where(df['Item_Outlet_Sales'] <= (Q1-1.5*IQR))\n",
    " \n",
    "''' Removing the Outliers '''\n",
    "df.drop(upper[0], inplace = True)\n",
    "df.drop(lower[0], inplace = True)\n",
    " \n",
    "print(\"New Shape: \", df.shape)"
   ]
  },
  {
   "cell_type": "markdown",
   "id": "29e2e753-c5d7-435f-8cce-4893caec50c0",
   "metadata": {},
   "source": [
    "# Graphs"
   ]
  },
  {
   "cell_type": "code",
   "execution_count": 40,
   "id": "f59675a5-f31b-4e79-a441-50ff83089748",
   "metadata": {},
   "outputs": [
    {
     "data": {
      "text/plain": [
       "<AxesSubplot:xlabel='Item_Weight'>"
      ]
     },
     "execution_count": 40,
     "metadata": {},
     "output_type": "execute_result"
    },
    {
     "data": {
      "image/png": "[encoded data removed]",
      "text/plain": [
       "<Figure size 640x480 with 1 Axes>"
      ]
     },
     "metadata": {},
     "output_type": "display_data"
    }
   ],
   "source": [
    "# Box Plot\n",
    "import seaborn as sns\n",
    "sns.boxplot(df['Item_Weight'])"
   ]
  },
  {
   "cell_type": "code",
   "execution_count": 41,
   "id": "ccea747d-8241-45e8-a4c4-9a9536ce98c4",
   "metadata": {},
   "outputs": [
    {
     "data": {
      "text/plain": [
       "<AxesSubplot:xlabel='Item_Visibility'>"
      ]
     },
     "execution_count": 41,
     "metadata": {},
     "output_type": "execute_result"
    },
    {
     "data": {
      "image/png": "[encoded data removed]",
      "text/plain": [
       "<Figure size 640x480 with 1 Axes>"
      ]
     },
     "metadata": {},
     "output_type": "display_data"
    }
   ],
   "source": [
    "# Box Plot\n",
    "import seaborn as sns\n",
    "sns.boxplot(df['Item_Visibility'])"
   ]
  },
  {
   "cell_type": "code",
   "execution_count": 42,
   "id": "2d17a11c-941c-4854-90d5-2002583024fa",
   "metadata": {},
   "outputs": [
    {
     "data": {
      "text/plain": [
       "<AxesSubplot:xlabel='Item_Outlet_Sales'>"
      ]
     },
     "execution_count": 42,
     "metadata": {},
     "output_type": "execute_result"
    },
    {
     "data": {
      "image/png": "[encoded data removed]",
      "text/plain": [
       "<Figure size 640x480 with 1 Axes>"
      ]
     },
     "metadata": {},
     "output_type": "display_data"
    }
   ],
   "source": [
    "# Box Plot\n",
    "import seaborn as sns\n",
    "sns.boxplot(df['Item_Outlet_Sales'])"
   ]
  },
  {
   "cell_type": "markdown",
   "id": "de530f54-d002-4c01-ada8-4a01cacec2f6",
   "metadata": {},
   "source": [
    "### C/C : we have removed the outliers in the columns Item_Outlet_Sales and Item_Visibility"
   ]
  },
  {
   "cell_type": "markdown",
   "id": "651959b2-c1da-46af-8e24-a5ffc732e841",
   "metadata": {},
   "source": [
    "# Data Visualization "
   ]
  },
  {
   "cell_type": "code",
   "execution_count": 43,
   "id": "d2d4e36f-3c98-4820-b234-637d13226ff2",
   "metadata": {},
   "outputs": [
    {
     "data": {
      "text/plain": [
       "Text(0, 0.5, 'Outlet Sales')"
      ]
     },
     "execution_count": 43,
     "metadata": {},
     "output_type": "execute_result"
    },
    {
     "data": {
      "image/png": "[encoded data removed]",
      "text/plain": [
       "<Figure size 1000x600 with 1 Axes>"
      ]
     },
     "metadata": {},
     "output_type": "display_data"
    }
   ],
   "source": [
    "# Set the width and height of the figure\n",
    "plt.figure(figsize=(10,6))\n",
    "\n",
    "# Add title\n",
    "plt.title(\"Average Outlet Sales, by Item Type\")\n",
    "\n",
    "# Bar chart showing average arrival delay for Spirit Airlines flights by month\n",
    "sns.barplot(x=df.Outlet_Type, y=df['Item_Outlet_Sales'])\n",
    "\n",
    "# Add label for vertical axis\n",
    "plt.ylabel(\"Outlet Sales\")"
   ]
  },
  {
   "cell_type": "code",
   "execution_count": 44,
   "id": "86ee7fe4-0344-445f-9042-1650dd92568b",
   "metadata": {},
   "outputs": [
    {
     "data": {
      "text/plain": [
       "Text(0, 0.5, 'Outlet Sales')"
      ]
     },
     "execution_count": 44,
     "metadata": {},
     "output_type": "execute_result"
    },
    {
     "data": {
      "image/png": "[encoded data removed]",
      "text/plain": [
       "<Figure size 1000x600 with 1 Axes>"
      ]
     },
     "metadata": {},
     "output_type": "display_data"
    }
   ],
   "source": [
    "# Set the width and height of the figure\n",
    "plt.figure(figsize=(10,6))\n",
    "\n",
    "# Add title\n",
    "plt.title(\"Average Outlet Sales, by Item_Fat_Content\")\n",
    "\n",
    "# Bar chart showing average arrival delay for Spirit Airlines flights by month\n",
    "sns.barplot(x=df.Item_Fat_Content, y=df['Item_Outlet_Sales'])\n",
    "\n",
    "# Add label for vertical axis\n",
    "plt.ylabel(\"Outlet Sales\")"
   ]
  },
  {
   "cell_type": "code",
   "execution_count": 45,
   "id": "15e5a2ae-dc42-4150-a6c9-a6c53fcde59d",
   "metadata": {},
   "outputs": [
    {
     "data": {
      "text/plain": [
       "Text(0, 0.5, 'Outlet Sales')"
      ]
     },
     "execution_count": 45,
     "metadata": {},
     "output_type": "execute_result"
    },
    {
     "data": {
      "image/png": "[encoded data removed]",
      "text/plain": [
       "<Figure size 2000x1000 with 1 Axes>"
      ]
     },
     "metadata": {},
     "output_type": "display_data"
    }
   ],
   "source": [
    "# Set the width and height of the figure\n",
    "plt.figure(figsize=(20,10))\n",
    "\n",
    "# Add title\n",
    "plt.title(\"Average Outlet Sales, by product type\")\n",
    "\n",
    "# Bar chart showing average arrival delay for Spirit Airlines flights by month\n",
    "sns.barplot(x=df.Item_Type, y=df['Item_Outlet_Sales'])\n",
    "\n",
    "# Add label for vertical axis\n",
    "plt.ylabel(\"Outlet Sales\")"
   ]
  },
  {
   "cell_type": "markdown",
   "id": "136a8c37-8240-4258-b51a-8f6f0c27b77f",
   "metadata": {},
   "source": [
    "####  we notice that the seafood and Starchy foods are the most product type with high outlet sales "
   ]
  },
  {
   "cell_type": "code",
   "execution_count": 46,
   "id": "054c8a51-16d1-431a-8441-28cd9690608f",
   "metadata": {},
   "outputs": [
    {
     "data": {
      "text/html": [
       "<div>\n",
       "<style scoped>\n",
       "    .dataframe tbody tr th:only-of-type {\n",
       "        vertical-align: middle;\n",
       "    }\n",
       "\n",
       "    .dataframe tbody tr th {\n",
       "        vertical-align: top;\n",
       "    }\n",
       "\n",
       "    .dataframe thead tr th {\n",
       "        text-align: left;\n",
       "    }\n",
       "\n",
       "    .dataframe thead tr:last-of-type th {\n",
       "        text-align: right;\n",
       "    }\n",
       "</style>\n",
       "<table border=\"1\" class=\"dataframe\">\n",
       "  <thead>\n",
       "    <tr>\n",
       "      <th></th>\n",
       "      <th colspan=\"8\" halign=\"left\">Item_Weight</th>\n",
       "      <th colspan=\"2\" halign=\"left\">Item_Visibility</th>\n",
       "      <th>...</th>\n",
       "      <th colspan=\"2\" halign=\"left\">Outlet_Establishment_Year</th>\n",
       "      <th colspan=\"8\" halign=\"left\">Item_Outlet_Sales</th>\n",
       "    </tr>\n",
       "    <tr>\n",
       "      <th></th>\n",
       "      <th>count</th>\n",
       "      <th>mean</th>\n",
       "      <th>std</th>\n",
       "      <th>min</th>\n",
       "      <th>25%</th>\n",
       "      <th>50%</th>\n",
       "      <th>75%</th>\n",
       "      <th>max</th>\n",
       "      <th>count</th>\n",
       "      <th>mean</th>\n",
       "      <th>...</th>\n",
       "      <th>75%</th>\n",
       "      <th>max</th>\n",
       "      <th>count</th>\n",
       "      <th>mean</th>\n",
       "      <th>std</th>\n",
       "      <th>min</th>\n",
       "      <th>25%</th>\n",
       "      <th>50%</th>\n",
       "      <th>75%</th>\n",
       "      <th>max</th>\n",
       "    </tr>\n",
       "    <tr>\n",
       "      <th>Item_Fat_Content</th>\n",
       "      <th></th>\n",
       "      <th></th>\n",
       "      <th></th>\n",
       "      <th></th>\n",
       "      <th></th>\n",
       "      <th></th>\n",
       "      <th></th>\n",
       "      <th></th>\n",
       "      <th></th>\n",
       "      <th></th>\n",
       "      <th></th>\n",
       "      <th></th>\n",
       "      <th></th>\n",
       "      <th></th>\n",
       "      <th></th>\n",
       "      <th></th>\n",
       "      <th></th>\n",
       "      <th></th>\n",
       "      <th></th>\n",
       "      <th></th>\n",
       "      <th></th>\n",
       "    </tr>\n",
       "  </thead>\n",
       "  <tbody>\n",
       "    <tr>\n",
       "      <th>low fat</th>\n",
       "      <td>5310.0</td>\n",
       "      <td>12.922776</td>\n",
       "      <td>4.243349</td>\n",
       "      <td>4.590</td>\n",
       "      <td>9.300</td>\n",
       "      <td>12.857645</td>\n",
       "      <td>16.2</td>\n",
       "      <td>21.35</td>\n",
       "      <td>5310.0</td>\n",
       "      <td>0.061424</td>\n",
       "      <td>...</td>\n",
       "      <td>2004.0</td>\n",
       "      <td>2009.0</td>\n",
       "      <td>5310.0</td>\n",
       "      <td>2186.283071</td>\n",
       "      <td>1700.497820</td>\n",
       "      <td>33.2900</td>\n",
       "      <td>856.8846</td>\n",
       "      <td>1789.6704</td>\n",
       "      <td>3084.9843</td>\n",
       "      <td>13086.9648</td>\n",
       "    </tr>\n",
       "    <tr>\n",
       "      <th>regular</th>\n",
       "      <td>2883.0</td>\n",
       "      <td>12.730887</td>\n",
       "      <td>4.228616</td>\n",
       "      <td>4.555</td>\n",
       "      <td>9.395</td>\n",
       "      <td>12.857645</td>\n",
       "      <td>15.7</td>\n",
       "      <td>21.20</td>\n",
       "      <td>2883.0</td>\n",
       "      <td>0.066004</td>\n",
       "      <td>...</td>\n",
       "      <td>2004.0</td>\n",
       "      <td>2009.0</td>\n",
       "      <td>2883.0</td>\n",
       "      <td>2271.269428</td>\n",
       "      <td>1722.417924</td>\n",
       "      <td>37.2848</td>\n",
       "      <td>918.8040</td>\n",
       "      <td>1869.5664</td>\n",
       "      <td>3257.7594</td>\n",
       "      <td>12117.5600</td>\n",
       "    </tr>\n",
       "  </tbody>\n",
       "</table>\n",
       "<p>2 rows × 40 columns</p>\n",
       "</div>"
      ],
      "text/plain": [
       "                 Item_Weight                                                \\\n",
       "                       count       mean       std    min    25%        50%   \n",
       "Item_Fat_Content                                                             \n",
       "low fat               5310.0  12.922776  4.243349  4.590  9.300  12.857645   \n",
       "regular               2883.0  12.730887  4.228616  4.555  9.395  12.857645   \n",
       "\n",
       "                              Item_Visibility            ...  \\\n",
       "                   75%    max           count      mean  ...   \n",
       "Item_Fat_Content                                         ...   \n",
       "low fat           16.2  21.35          5310.0  0.061424  ...   \n",
       "regular           15.7  21.20          2883.0  0.066004  ...   \n",
       "\n",
       "                 Outlet_Establishment_Year         Item_Outlet_Sales  \\\n",
       "                                       75%     max             count   \n",
       "Item_Fat_Content                                                       \n",
       "low fat                             2004.0  2009.0            5310.0   \n",
       "regular                             2004.0  2009.0            2883.0   \n",
       "\n",
       "                                                                          \\\n",
       "                         mean          std      min       25%        50%   \n",
       "Item_Fat_Content                                                           \n",
       "low fat           2186.283071  1700.497820  33.2900  856.8846  1789.6704   \n",
       "regular           2271.269428  1722.417924  37.2848  918.8040  1869.5664   \n",
       "\n",
       "                                         \n",
       "                        75%         max  \n",
       "Item_Fat_Content                         \n",
       "low fat           3084.9843  13086.9648  \n",
       "regular           3257.7594  12117.5600  \n",
       "\n",
       "[2 rows x 40 columns]"
      ]
     },
     "execution_count": 46,
     "metadata": {},
     "output_type": "execute_result"
    }
   ],
   "source": [
    "test= df.groupby(['Item_Fat_Content'])\n",
    "test.describe()"
   ]
  },
  {
   "cell_type": "code",
   "execution_count": 47,
   "id": "a2d0da6f-0df6-4a33-8ec0-ebde22ea3df1",
   "metadata": {},
   "outputs": [
    {
     "data": {
      "text/html": [
       "<div>\n",
       "<style scoped>\n",
       "    .dataframe tbody tr th:only-of-type {\n",
       "        vertical-align: middle;\n",
       "    }\n",
       "\n",
       "    .dataframe tbody tr th {\n",
       "        vertical-align: top;\n",
       "    }\n",
       "\n",
       "    .dataframe thead th {\n",
       "        text-align: right;\n",
       "    }\n",
       "</style>\n",
       "<table border=\"1\" class=\"dataframe\">\n",
       "  <thead>\n",
       "    <tr style=\"text-align: right;\">\n",
       "      <th></th>\n",
       "      <th>Item_Weight</th>\n",
       "      <th>Item_Visibility</th>\n",
       "      <th>Item_MRP</th>\n",
       "      <th>Outlet_Establishment_Year</th>\n",
       "      <th>Item_Outlet_Sales</th>\n",
       "    </tr>\n",
       "  </thead>\n",
       "  <tbody>\n",
       "    <tr>\n",
       "      <th>Item_Weight</th>\n",
       "      <td>1.000000</td>\n",
       "      <td>-0.007211</td>\n",
       "      <td>0.023374</td>\n",
       "      <td>-0.010582</td>\n",
       "      <td>0.009266</td>\n",
       "    </tr>\n",
       "    <tr>\n",
       "      <th>Item_Visibility</th>\n",
       "      <td>-0.007211</td>\n",
       "      <td>1.000000</td>\n",
       "      <td>-0.002648</td>\n",
       "      <td>-0.028088</td>\n",
       "      <td>-0.073174</td>\n",
       "    </tr>\n",
       "    <tr>\n",
       "      <th>Item_MRP</th>\n",
       "      <td>0.023374</td>\n",
       "      <td>-0.002648</td>\n",
       "      <td>1.000000</td>\n",
       "      <td>0.006372</td>\n",
       "      <td>0.580562</td>\n",
       "    </tr>\n",
       "    <tr>\n",
       "      <th>Outlet_Establishment_Year</th>\n",
       "      <td>-0.010582</td>\n",
       "      <td>-0.028088</td>\n",
       "      <td>0.006372</td>\n",
       "      <td>1.000000</td>\n",
       "      <td>-0.067330</td>\n",
       "    </tr>\n",
       "    <tr>\n",
       "      <th>Item_Outlet_Sales</th>\n",
       "      <td>0.009266</td>\n",
       "      <td>-0.073174</td>\n",
       "      <td>0.580562</td>\n",
       "      <td>-0.067330</td>\n",
       "      <td>1.000000</td>\n",
       "    </tr>\n",
       "  </tbody>\n",
       "</table>\n",
       "</div>"
      ],
      "text/plain": [
       "                           Item_Weight  Item_Visibility  Item_MRP  \\\n",
       "Item_Weight                   1.000000        -0.007211  0.023374   \n",
       "Item_Visibility              -0.007211         1.000000 -0.002648   \n",
       "Item_MRP                      0.023374        -0.002648  1.000000   \n",
       "Outlet_Establishment_Year    -0.010582        -0.028088  0.006372   \n",
       "Item_Outlet_Sales             0.009266        -0.073174  0.580562   \n",
       "\n",
       "                           Outlet_Establishment_Year  Item_Outlet_Sales  \n",
       "Item_Weight                                -0.010582           0.009266  \n",
       "Item_Visibility                            -0.028088          -0.073174  \n",
       "Item_MRP                                    0.006372           0.580562  \n",
       "Outlet_Establishment_Year                   1.000000          -0.067330  \n",
       "Item_Outlet_Sales                          -0.067330           1.000000  "
      ]
     },
     "execution_count": 47,
     "metadata": {},
     "output_type": "execute_result"
    }
   ],
   "source": [
    "df.corr()"
   ]
  },
  {
   "cell_type": "code",
   "execution_count": 48,
   "id": "ea7af8cb-47a4-4570-bc38-86e5913f74fb",
   "metadata": {},
   "outputs": [
    {
     "data": {
      "text/plain": [
       "<AxesSubplot:>"
      ]
     },
     "execution_count": 48,
     "metadata": {},
     "output_type": "execute_result"
    },
    {
     "data": {
      "image/png": "[encoded data removed]",
      "text/plain": [
       "<Figure size 640x480 with 2 Axes>"
      ]
     },
     "metadata": {},
     "output_type": "display_data"
    }
   ],
   "source": [
    "sns.heatmap(df.corr(), annot = True)"
   ]
  },
  {
   "cell_type": "markdown",
   "id": "13df4840-86c2-4b67-b132-7a460afe693a",
   "metadata": {},
   "source": [
    "# Feature scaling"
   ]
  },
  {
   "cell_type": "code",
   "execution_count": 49,
   "id": "2d7e9ccc-8df5-437f-b349-8aeaca0be6a4",
   "metadata": {},
   "outputs": [],
   "source": [
    "from sklearn.preprocessing import StandardScaler"
   ]
  },
  {
   "cell_type": "code",
   "execution_count": 50,
   "id": "9832d3b3-d8b3-49ea-9835-3d704114af9f",
   "metadata": {},
   "outputs": [
    {
     "data": {
      "text/plain": [
       "StandardScaler()"
      ]
     },
     "execution_count": 50,
     "metadata": {},
     "output_type": "execute_result"
    }
   ],
   "source": [
    "std_scale=StandardScaler()\n",
    "std_scale"
   ]
  },
  {
   "cell_type": "code",
   "execution_count": 51,
   "id": "66f31b58-fc47-40b9-ba52-9c464c6095e6",
   "metadata": {},
   "outputs": [],
   "source": [
    "df[\"Item_Weight\"]=std_scale.fit_transform(df[[\"Item_Weight\"]])\n",
    "df[\"Item_Visibility\"]=std_scale.fit_transform(df[[\"Item_Visibility\"]])\n",
    "df[\"Outlet_Establishment_Year\"]=std_scale.fit_transform(df[[\"Outlet_Establishment_Year\"]])\n",
    "df[\"Item_Outlet_Sales\"]=std_scale.fit_transform(df[[\"Item_Outlet_Sales\"]])"
   ]
  },
  {
   "cell_type": "code",
   "execution_count": 52,
   "id": "4ed92e1c-9bb8-465b-92ac-37fb22f1eb61",
   "metadata": {},
   "outputs": [
    {
     "data": {
      "text/html": [
       "<div>\n",
       "<style scoped>\n",
       "    .dataframe tbody tr th:only-of-type {\n",
       "        vertical-align: middle;\n",
       "    }\n",
       "\n",
       "    .dataframe tbody tr th {\n",
       "        vertical-align: top;\n",
       "    }\n",
       "\n",
       "    .dataframe thead th {\n",
       "        text-align: right;\n",
       "    }\n",
       "</style>\n",
       "<table border=\"1\" class=\"dataframe\">\n",
       "  <thead>\n",
       "    <tr style=\"text-align: right;\">\n",
       "      <th></th>\n",
       "      <th>Item_Identifier</th>\n",
       "      <th>Item_Weight</th>\n",
       "      <th>Item_Fat_Content</th>\n",
       "      <th>Item_Visibility</th>\n",
       "      <th>Item_Type</th>\n",
       "      <th>Item_MRP</th>\n",
       "      <th>Outlet_Identifier</th>\n",
       "      <th>Outlet_Establishment_Year</th>\n",
       "      <th>Outlet_Size</th>\n",
       "      <th>Outlet_Location_Type</th>\n",
       "      <th>Outlet_Type</th>\n",
       "      <th>Item_Outlet_Sales</th>\n",
       "    </tr>\n",
       "  </thead>\n",
       "  <tbody>\n",
       "    <tr>\n",
       "      <th>0</th>\n",
       "      <td>FDA15</td>\n",
       "      <td>-0.838771</td>\n",
       "      <td>low fat</td>\n",
       "      <td>-1.017788</td>\n",
       "      <td>Dairy</td>\n",
       "      <td>249.8092</td>\n",
       "      <td>OUT049</td>\n",
       "      <td>0.126486</td>\n",
       "      <td>medium</td>\n",
       "      <td>Tier 1</td>\n",
       "      <td>Supermarket Type1</td>\n",
       "      <td>0.889046</td>\n",
       "    </tr>\n",
       "    <tr>\n",
       "      <th>1</th>\n",
       "      <td>DRC01</td>\n",
       "      <td>-1.636196</td>\n",
       "      <td>regular</td>\n",
       "      <td>-0.947805</td>\n",
       "      <td>Soft Drinks</td>\n",
       "      <td>48.2692</td>\n",
       "      <td>OUT018</td>\n",
       "      <td>1.324104</td>\n",
       "      <td>medium</td>\n",
       "      <td>Tier 3</td>\n",
       "      <td>Supermarket Type2</td>\n",
       "      <td>-1.037606</td>\n",
       "    </tr>\n",
       "    <tr>\n",
       "      <th>2</th>\n",
       "      <td>FDN15</td>\n",
       "      <td>1.095809</td>\n",
       "      <td>low fat</td>\n",
       "      <td>-1.002349</td>\n",
       "      <td>Meat</td>\n",
       "      <td>141.6180</td>\n",
       "      <td>OUT049</td>\n",
       "      <td>0.126486</td>\n",
       "      <td>medium</td>\n",
       "      <td>Tier 1</td>\n",
       "      <td>Supermarket Type1</td>\n",
       "      <td>-0.069603</td>\n",
       "    </tr>\n",
       "    <tr>\n",
       "      <th>3</th>\n",
       "      <td>FDX07</td>\n",
       "      <td>1.496881</td>\n",
       "      <td>regular</td>\n",
       "      <td>-1.365379</td>\n",
       "      <td>Fruits and Vegetables</td>\n",
       "      <td>182.0950</td>\n",
       "      <td>OUT010</td>\n",
       "      <td>0.006724</td>\n",
       "      <td>high</td>\n",
       "      <td>Tier 3</td>\n",
       "      <td>Grocery Store</td>\n",
       "      <td>-0.868478</td>\n",
       "    </tr>\n",
       "    <tr>\n",
       "      <th>4</th>\n",
       "      <td>NCD19</td>\n",
       "      <td>-0.926063</td>\n",
       "      <td>low fat</td>\n",
       "      <td>-1.365379</td>\n",
       "      <td>Household</td>\n",
       "      <td>53.8614</td>\n",
       "      <td>OUT013</td>\n",
       "      <td>-1.310655</td>\n",
       "      <td>high</td>\n",
       "      <td>Tier 3</td>\n",
       "      <td>Supermarket Type1</td>\n",
       "      <td>-0.714938</td>\n",
       "    </tr>\n",
       "  </tbody>\n",
       "</table>\n",
       "</div>"
      ],
      "text/plain": [
       "  Item_Identifier  Item_Weight Item_Fat_Content  Item_Visibility  \\\n",
       "0           FDA15    -0.838771          low fat        -1.017788   \n",
       "1           DRC01    -1.636196          regular        -0.947805   \n",
       "2           FDN15     1.095809          low fat        -1.002349   \n",
       "3           FDX07     1.496881          regular        -1.365379   \n",
       "4           NCD19    -0.926063          low fat        -1.365379   \n",
       "\n",
       "               Item_Type  Item_MRP Outlet_Identifier  \\\n",
       "0                  Dairy  249.8092            OUT049   \n",
       "1            Soft Drinks   48.2692            OUT018   \n",
       "2                   Meat  141.6180            OUT049   \n",
       "3  Fruits and Vegetables  182.0950            OUT010   \n",
       "4              Household   53.8614            OUT013   \n",
       "\n",
       "   Outlet_Establishment_Year Outlet_Size Outlet_Location_Type  \\\n",
       "0                   0.126486      medium               Tier 1   \n",
       "1                   1.324104      medium               Tier 3   \n",
       "2                   0.126486      medium               Tier 1   \n",
       "3                   0.006724        high               Tier 3   \n",
       "4                  -1.310655        high               Tier 3   \n",
       "\n",
       "         Outlet_Type  Item_Outlet_Sales  \n",
       "0  Supermarket Type1           0.889046  \n",
       "1  Supermarket Type2          -1.037606  \n",
       "2  Supermarket Type1          -0.069603  \n",
       "3      Grocery Store          -0.868478  \n",
       "4  Supermarket Type1          -0.714938  "
      ]
     },
     "execution_count": 52,
     "metadata": {},
     "output_type": "execute_result"
    }
   ],
   "source": [
    "df.head()"
   ]
  },
  {
   "cell_type": "code",
   "execution_count": 53,
   "id": "f918f71f-b516-4fe1-b391-4c9fa6568fc8",
   "metadata": {},
   "outputs": [
    {
     "data": {
      "text/plain": [
       "array(['Tier 1', 'Tier 3', 'Tier 2'], dtype=object)"
      ]
     },
     "execution_count": 53,
     "metadata": {},
     "output_type": "execute_result"
    }
   ],
   "source": [
    "df.Outlet_Location_Type.unique()"
   ]
  },
  {
   "cell_type": "markdown",
   "id": "7cb7c78d-6929-481c-99af-bd01bf5bdc9f",
   "metadata": {},
   "source": [
    "# Converting Categorical To Numerical : ENCODING"
   ]
  },
  {
   "cell_type": "code",
   "execution_count": 54,
   "id": "3c670866-11dd-4a30-9938-45db2c073446",
   "metadata": {},
   "outputs": [],
   "source": [
    "#Label Encoding for Ordinal Data\n",
    "# Import label encoder\n",
    "from sklearn import preprocessing\n",
    "  \n",
    "# label_encoder object knows how to understand word labels.\n",
    "label_encoder = preprocessing.LabelEncoder()\n",
    "  \n",
    "# Encode labels in column 'species'.\n",
    "df['Item_Fat_Content']= label_encoder.fit_transform(df['Item_Fat_Content'])\n",
    "df['Outlet_Size']= label_encoder.fit_transform(df['Outlet_Size'])\n",
    "df['Outlet_Location_Type']= label_encoder.fit_transform(df['Outlet_Location_Type'])\n",
    " \n",
    "#df_train_transformed = encoder.fit_transform(train_df)"
   ]
  },
  {
   "cell_type": "code",
   "execution_count": 55,
   "id": "3c46db46-4567-44c1-b2b1-203e849133d4",
   "metadata": {},
   "outputs": [],
   "source": [
    "#One Hot Encoding for Nominal Data\n",
    "import category_encoders as ce\n",
    "encoder=ce.OneHotEncoder(cols=[\"Item_Type\",\"Outlet_Type\"],handle_unknown='return_nan',return_df=True,use_cat_names=True)"
   ]
  },
  {
   "cell_type": "code",
   "execution_count": 56,
   "id": "d93a2d17-bee9-4952-9db8-b8995fbb5eb8",
   "metadata": {},
   "outputs": [
    {
     "data": {
      "text/html": [
       "<div>\n",
       "<style scoped>\n",
       "    .dataframe tbody tr th:only-of-type {\n",
       "        vertical-align: middle;\n",
       "    }\n",
       "\n",
       "    .dataframe tbody tr th {\n",
       "        vertical-align: top;\n",
       "    }\n",
       "\n",
       "    .dataframe thead th {\n",
       "        text-align: right;\n",
       "    }\n",
       "</style>\n",
       "<table border=\"1\" class=\"dataframe\">\n",
       "  <thead>\n",
       "    <tr style=\"text-align: right;\">\n",
       "      <th></th>\n",
       "      <th>Item_Identifier</th>\n",
       "      <th>Item_Weight</th>\n",
       "      <th>Item_Fat_Content</th>\n",
       "      <th>Item_Visibility</th>\n",
       "      <th>Item_Type_Dairy</th>\n",
       "      <th>Item_Type_Soft Drinks</th>\n",
       "      <th>Item_Type_Meat</th>\n",
       "      <th>Item_Type_Fruits and Vegetables</th>\n",
       "      <th>Item_Type_Household</th>\n",
       "      <th>Item_Type_Baking Goods</th>\n",
       "      <th>...</th>\n",
       "      <th>Item_MRP</th>\n",
       "      <th>Outlet_Identifier</th>\n",
       "      <th>Outlet_Establishment_Year</th>\n",
       "      <th>Outlet_Size</th>\n",
       "      <th>Outlet_Location_Type</th>\n",
       "      <th>Outlet_Type_Supermarket Type1</th>\n",
       "      <th>Outlet_Type_Supermarket Type2</th>\n",
       "      <th>Outlet_Type_Grocery Store</th>\n",
       "      <th>Outlet_Type_Supermarket Type3</th>\n",
       "      <th>Item_Outlet_Sales</th>\n",
       "    </tr>\n",
       "  </thead>\n",
       "  <tbody>\n",
       "    <tr>\n",
       "      <th>0</th>\n",
       "      <td>FDA15</td>\n",
       "      <td>-0.838771</td>\n",
       "      <td>0</td>\n",
       "      <td>-1.017788</td>\n",
       "      <td>1.0</td>\n",
       "      <td>0.0</td>\n",
       "      <td>0.0</td>\n",
       "      <td>0.0</td>\n",
       "      <td>0.0</td>\n",
       "      <td>0.0</td>\n",
       "      <td>...</td>\n",
       "      <td>249.8092</td>\n",
       "      <td>OUT049</td>\n",
       "      <td>0.126486</td>\n",
       "      <td>1</td>\n",
       "      <td>0</td>\n",
       "      <td>1.0</td>\n",
       "      <td>0.0</td>\n",
       "      <td>0.0</td>\n",
       "      <td>0.0</td>\n",
       "      <td>0.889046</td>\n",
       "    </tr>\n",
       "    <tr>\n",
       "      <th>1</th>\n",
       "      <td>DRC01</td>\n",
       "      <td>-1.636196</td>\n",
       "      <td>1</td>\n",
       "      <td>-0.947805</td>\n",
       "      <td>0.0</td>\n",
       "      <td>1.0</td>\n",
       "      <td>0.0</td>\n",
       "      <td>0.0</td>\n",
       "      <td>0.0</td>\n",
       "      <td>0.0</td>\n",
       "      <td>...</td>\n",
       "      <td>48.2692</td>\n",
       "      <td>OUT018</td>\n",
       "      <td>1.324104</td>\n",
       "      <td>1</td>\n",
       "      <td>2</td>\n",
       "      <td>0.0</td>\n",
       "      <td>1.0</td>\n",
       "      <td>0.0</td>\n",
       "      <td>0.0</td>\n",
       "      <td>-1.037606</td>\n",
       "    </tr>\n",
       "    <tr>\n",
       "      <th>2</th>\n",
       "      <td>FDN15</td>\n",
       "      <td>1.095809</td>\n",
       "      <td>0</td>\n",
       "      <td>-1.002349</td>\n",
       "      <td>0.0</td>\n",
       "      <td>0.0</td>\n",
       "      <td>1.0</td>\n",
       "      <td>0.0</td>\n",
       "      <td>0.0</td>\n",
       "      <td>0.0</td>\n",
       "      <td>...</td>\n",
       "      <td>141.6180</td>\n",
       "      <td>OUT049</td>\n",
       "      <td>0.126486</td>\n",
       "      <td>1</td>\n",
       "      <td>0</td>\n",
       "      <td>1.0</td>\n",
       "      <td>0.0</td>\n",
       "      <td>0.0</td>\n",
       "      <td>0.0</td>\n",
       "      <td>-0.069603</td>\n",
       "    </tr>\n",
       "    <tr>\n",
       "      <th>3</th>\n",
       "      <td>FDX07</td>\n",
       "      <td>1.496881</td>\n",
       "      <td>1</td>\n",
       "      <td>-1.365379</td>\n",
       "      <td>0.0</td>\n",
       "      <td>0.0</td>\n",
       "      <td>0.0</td>\n",
       "      <td>1.0</td>\n",
       "      <td>0.0</td>\n",
       "      <td>0.0</td>\n",
       "      <td>...</td>\n",
       "      <td>182.0950</td>\n",
       "      <td>OUT010</td>\n",
       "      <td>0.006724</td>\n",
       "      <td>0</td>\n",
       "      <td>2</td>\n",
       "      <td>0.0</td>\n",
       "      <td>0.0</td>\n",
       "      <td>1.0</td>\n",
       "      <td>0.0</td>\n",
       "      <td>-0.868478</td>\n",
       "    </tr>\n",
       "    <tr>\n",
       "      <th>4</th>\n",
       "      <td>NCD19</td>\n",
       "      <td>-0.926063</td>\n",
       "      <td>0</td>\n",
       "      <td>-1.365379</td>\n",
       "      <td>0.0</td>\n",
       "      <td>0.0</td>\n",
       "      <td>0.0</td>\n",
       "      <td>0.0</td>\n",
       "      <td>1.0</td>\n",
       "      <td>0.0</td>\n",
       "      <td>...</td>\n",
       "      <td>53.8614</td>\n",
       "      <td>OUT013</td>\n",
       "      <td>-1.310655</td>\n",
       "      <td>0</td>\n",
       "      <td>2</td>\n",
       "      <td>1.0</td>\n",
       "      <td>0.0</td>\n",
       "      <td>0.0</td>\n",
       "      <td>0.0</td>\n",
       "      <td>-0.714938</td>\n",
       "    </tr>\n",
       "  </tbody>\n",
       "</table>\n",
       "<p>5 rows × 30 columns</p>\n",
       "</div>"
      ],
      "text/plain": [
       "  Item_Identifier  Item_Weight  Item_Fat_Content  Item_Visibility  \\\n",
       "0           FDA15    -0.838771                 0        -1.017788   \n",
       "1           DRC01    -1.636196                 1        -0.947805   \n",
       "2           FDN15     1.095809                 0        -1.002349   \n",
       "3           FDX07     1.496881                 1        -1.365379   \n",
       "4           NCD19    -0.926063                 0        -1.365379   \n",
       "\n",
       "   Item_Type_Dairy  Item_Type_Soft Drinks  Item_Type_Meat  \\\n",
       "0              1.0                    0.0             0.0   \n",
       "1              0.0                    1.0             0.0   \n",
       "2              0.0                    0.0             1.0   \n",
       "3              0.0                    0.0             0.0   \n",
       "4              0.0                    0.0             0.0   \n",
       "\n",
       "   Item_Type_Fruits and Vegetables  Item_Type_Household  \\\n",
       "0                              0.0                  0.0   \n",
       "1                              0.0                  0.0   \n",
       "2                              0.0                  0.0   \n",
       "3                              1.0                  0.0   \n",
       "4                              0.0                  1.0   \n",
       "\n",
       "   Item_Type_Baking Goods  ...  Item_MRP  Outlet_Identifier  \\\n",
       "0                     0.0  ...  249.8092             OUT049   \n",
       "1                     0.0  ...   48.2692             OUT018   \n",
       "2                     0.0  ...  141.6180             OUT049   \n",
       "3                     0.0  ...  182.0950             OUT010   \n",
       "4                     0.0  ...   53.8614             OUT013   \n",
       "\n",
       "   Outlet_Establishment_Year  Outlet_Size  Outlet_Location_Type  \\\n",
       "0                   0.126486            1                     0   \n",
       "1                   1.324104            1                     2   \n",
       "2                   0.126486            1                     0   \n",
       "3                   0.006724            0                     2   \n",
       "4                  -1.310655            0                     2   \n",
       "\n",
       "   Outlet_Type_Supermarket Type1  Outlet_Type_Supermarket Type2  \\\n",
       "0                            1.0                            0.0   \n",
       "1                            0.0                            1.0   \n",
       "2                            1.0                            0.0   \n",
       "3                            0.0                            0.0   \n",
       "4                            1.0                            0.0   \n",
       "\n",
       "   Outlet_Type_Grocery Store  Outlet_Type_Supermarket Type3  Item_Outlet_Sales  \n",
       "0                        0.0                            0.0           0.889046  \n",
       "1                        0.0                            0.0          -1.037606  \n",
       "2                        0.0                            0.0          -0.069603  \n",
       "3                        1.0                            0.0          -0.868478  \n",
       "4                        0.0                            0.0          -0.714938  \n",
       "\n",
       "[5 rows x 30 columns]"
      ]
     },
     "execution_count": 56,
     "metadata": {},
     "output_type": "execute_result"
    }
   ],
   "source": [
    "#Fit and transform Data\n",
    "df = encoder.fit_transform(df)\n",
    "df.head()"
   ]
  },
  {
   "cell_type": "code",
   "execution_count": 64,
   "id": "11721f8d-735a-41dd-b779-2d94ccdbd93d",
   "metadata": {},
   "outputs": [],
   "source": [
    "df.drop(['Item_Identifier', 'Outlet_Identifier'], inplace=True, axis = 1)"
   ]
  },
  {
   "cell_type": "markdown",
   "id": "4e55c067-12ee-4dfd-aa77-8677965ce714",
   "metadata": {},
   "source": [
    "# Building ML Model"
   ]
  },
  {
   "cell_type": "markdown",
   "id": "3e28f82d-4b8d-4078-993f-b2f373ebb20b",
   "metadata": {
    "tags": []
   },
   "source": [
    "# Seperating Training And Test Data"
   ]
  },
  {
   "cell_type": "code",
   "execution_count": 65,
   "id": "ca939cf5-f296-46b6-b523-6b304e277740",
   "metadata": {},
   "outputs": [],
   "source": [
    "from sklearn.model_selection import train_test_split\n",
    "from sklearn.linear_model import LinearRegression\n",
    "from sklearn.metrics import mean_absolute_error\n",
    "from sklearn.metrics import mean_squared_error\n",
    "from sklearn.metrics import r2_score"
   ]
  },
  {
   "cell_type": "code",
   "execution_count": 66,
   "id": "432f54e8-beb1-4ea1-9e2e-6ee002e24e9e",
   "metadata": {},
   "outputs": [],
   "source": [
    "X = df.iloc[:,:-1]\n",
    "y = df.Item_Outlet_Sales"
   ]
  },
  {
   "cell_type": "code",
   "execution_count": 67,
   "id": "e4a3af32-d109-48ba-8882-6dc7efca5489",
   "metadata": {},
   "outputs": [
    {
     "data": {
      "text/html": [
       "<div>\n",
       "<style scoped>\n",
       "    .dataframe tbody tr th:only-of-type {\n",
       "        vertical-align: middle;\n",
       "    }\n",
       "\n",
       "    .dataframe tbody tr th {\n",
       "        vertical-align: top;\n",
       "    }\n",
       "\n",
       "    .dataframe thead th {\n",
       "        text-align: right;\n",
       "    }\n",
       "</style>\n",
       "<table border=\"1\" class=\"dataframe\">\n",
       "  <thead>\n",
       "    <tr style=\"text-align: right;\">\n",
       "      <th></th>\n",
       "      <th>Item_Weight</th>\n",
       "      <th>Item_Fat_Content</th>\n",
       "      <th>Item_Visibility</th>\n",
       "      <th>Item_Type_Dairy</th>\n",
       "      <th>Item_Type_Soft Drinks</th>\n",
       "      <th>Item_Type_Meat</th>\n",
       "      <th>Item_Type_Fruits and Vegetables</th>\n",
       "      <th>Item_Type_Household</th>\n",
       "      <th>Item_Type_Baking Goods</th>\n",
       "      <th>Item_Type_Snack Foods</th>\n",
       "      <th>...</th>\n",
       "      <th>Item_Type_Others</th>\n",
       "      <th>Item_Type_Seafood</th>\n",
       "      <th>Item_MRP</th>\n",
       "      <th>Outlet_Establishment_Year</th>\n",
       "      <th>Outlet_Size</th>\n",
       "      <th>Outlet_Location_Type</th>\n",
       "      <th>Outlet_Type_Supermarket Type1</th>\n",
       "      <th>Outlet_Type_Supermarket Type2</th>\n",
       "      <th>Outlet_Type_Grocery Store</th>\n",
       "      <th>Outlet_Type_Supermarket Type3</th>\n",
       "    </tr>\n",
       "  </thead>\n",
       "  <tbody>\n",
       "    <tr>\n",
       "      <th>0</th>\n",
       "      <td>-0.838771</td>\n",
       "      <td>0</td>\n",
       "      <td>-1.017788</td>\n",
       "      <td>1.0</td>\n",
       "      <td>0.0</td>\n",
       "      <td>0.0</td>\n",
       "      <td>0.0</td>\n",
       "      <td>0.0</td>\n",
       "      <td>0.0</td>\n",
       "      <td>0.0</td>\n",
       "      <td>...</td>\n",
       "      <td>0.0</td>\n",
       "      <td>0.0</td>\n",
       "      <td>249.8092</td>\n",
       "      <td>0.126486</td>\n",
       "      <td>1</td>\n",
       "      <td>0</td>\n",
       "      <td>1.0</td>\n",
       "      <td>0.0</td>\n",
       "      <td>0.0</td>\n",
       "      <td>0.0</td>\n",
       "    </tr>\n",
       "    <tr>\n",
       "      <th>1</th>\n",
       "      <td>-1.636196</td>\n",
       "      <td>1</td>\n",
       "      <td>-0.947805</td>\n",
       "      <td>0.0</td>\n",
       "      <td>1.0</td>\n",
       "      <td>0.0</td>\n",
       "      <td>0.0</td>\n",
       "      <td>0.0</td>\n",
       "      <td>0.0</td>\n",
       "      <td>0.0</td>\n",
       "      <td>...</td>\n",
       "      <td>0.0</td>\n",
       "      <td>0.0</td>\n",
       "      <td>48.2692</td>\n",
       "      <td>1.324104</td>\n",
       "      <td>1</td>\n",
       "      <td>2</td>\n",
       "      <td>0.0</td>\n",
       "      <td>1.0</td>\n",
       "      <td>0.0</td>\n",
       "      <td>0.0</td>\n",
       "    </tr>\n",
       "    <tr>\n",
       "      <th>2</th>\n",
       "      <td>1.095809</td>\n",
       "      <td>0</td>\n",
       "      <td>-1.002349</td>\n",
       "      <td>0.0</td>\n",
       "      <td>0.0</td>\n",
       "      <td>1.0</td>\n",
       "      <td>0.0</td>\n",
       "      <td>0.0</td>\n",
       "      <td>0.0</td>\n",
       "      <td>0.0</td>\n",
       "      <td>...</td>\n",
       "      <td>0.0</td>\n",
       "      <td>0.0</td>\n",
       "      <td>141.6180</td>\n",
       "      <td>0.126486</td>\n",
       "      <td>1</td>\n",
       "      <td>0</td>\n",
       "      <td>1.0</td>\n",
       "      <td>0.0</td>\n",
       "      <td>0.0</td>\n",
       "      <td>0.0</td>\n",
       "    </tr>\n",
       "    <tr>\n",
       "      <th>3</th>\n",
       "      <td>1.496881</td>\n",
       "      <td>1</td>\n",
       "      <td>-1.365379</td>\n",
       "      <td>0.0</td>\n",
       "      <td>0.0</td>\n",
       "      <td>0.0</td>\n",
       "      <td>1.0</td>\n",
       "      <td>0.0</td>\n",
       "      <td>0.0</td>\n",
       "      <td>0.0</td>\n",
       "      <td>...</td>\n",
       "      <td>0.0</td>\n",
       "      <td>0.0</td>\n",
       "      <td>182.0950</td>\n",
       "      <td>0.006724</td>\n",
       "      <td>0</td>\n",
       "      <td>2</td>\n",
       "      <td>0.0</td>\n",
       "      <td>0.0</td>\n",
       "      <td>1.0</td>\n",
       "      <td>0.0</td>\n",
       "    </tr>\n",
       "    <tr>\n",
       "      <th>4</th>\n",
       "      <td>-0.926063</td>\n",
       "      <td>0</td>\n",
       "      <td>-1.365379</td>\n",
       "      <td>0.0</td>\n",
       "      <td>0.0</td>\n",
       "      <td>0.0</td>\n",
       "      <td>0.0</td>\n",
       "      <td>1.0</td>\n",
       "      <td>0.0</td>\n",
       "      <td>0.0</td>\n",
       "      <td>...</td>\n",
       "      <td>0.0</td>\n",
       "      <td>0.0</td>\n",
       "      <td>53.8614</td>\n",
       "      <td>-1.310655</td>\n",
       "      <td>0</td>\n",
       "      <td>2</td>\n",
       "      <td>1.0</td>\n",
       "      <td>0.0</td>\n",
       "      <td>0.0</td>\n",
       "      <td>0.0</td>\n",
       "    </tr>\n",
       "  </tbody>\n",
       "</table>\n",
       "<p>5 rows × 27 columns</p>\n",
       "</div>"
      ],
      "text/plain": [
       "   Item_Weight  Item_Fat_Content  Item_Visibility  Item_Type_Dairy  \\\n",
       "0    -0.838771                 0        -1.017788              1.0   \n",
       "1    -1.636196                 1        -0.947805              0.0   \n",
       "2     1.095809                 0        -1.002349              0.0   \n",
       "3     1.496881                 1        -1.365379              0.0   \n",
       "4    -0.926063                 0        -1.365379              0.0   \n",
       "\n",
       "   Item_Type_Soft Drinks  Item_Type_Meat  Item_Type_Fruits and Vegetables  \\\n",
       "0                    0.0             0.0                              0.0   \n",
       "1                    1.0             0.0                              0.0   \n",
       "2                    0.0             1.0                              0.0   \n",
       "3                    0.0             0.0                              1.0   \n",
       "4                    0.0             0.0                              0.0   \n",
       "\n",
       "   Item_Type_Household  Item_Type_Baking Goods  Item_Type_Snack Foods  ...  \\\n",
       "0                  0.0                     0.0                    0.0  ...   \n",
       "1                  0.0                     0.0                    0.0  ...   \n",
       "2                  0.0                     0.0                    0.0  ...   \n",
       "3                  0.0                     0.0                    0.0  ...   \n",
       "4                  1.0                     0.0                    0.0  ...   \n",
       "\n",
       "   Item_Type_Others  Item_Type_Seafood  Item_MRP  Outlet_Establishment_Year  \\\n",
       "0               0.0                0.0  249.8092                   0.126486   \n",
       "1               0.0                0.0   48.2692                   1.324104   \n",
       "2               0.0                0.0  141.6180                   0.126486   \n",
       "3               0.0                0.0  182.0950                   0.006724   \n",
       "4               0.0                0.0   53.8614                  -1.310655   \n",
       "\n",
       "   Outlet_Size  Outlet_Location_Type  Outlet_Type_Supermarket Type1  \\\n",
       "0            1                     0                            1.0   \n",
       "1            1                     2                            0.0   \n",
       "2            1                     0                            1.0   \n",
       "3            0                     2                            0.0   \n",
       "4            0                     2                            1.0   \n",
       "\n",
       "   Outlet_Type_Supermarket Type2  Outlet_Type_Grocery Store  \\\n",
       "0                            0.0                        0.0   \n",
       "1                            1.0                        0.0   \n",
       "2                            0.0                        0.0   \n",
       "3                            0.0                        1.0   \n",
       "4                            0.0                        0.0   \n",
       "\n",
       "   Outlet_Type_Supermarket Type3  \n",
       "0                            0.0  \n",
       "1                            0.0  \n",
       "2                            0.0  \n",
       "3                            0.0  \n",
       "4                            0.0  \n",
       "\n",
       "[5 rows x 27 columns]"
      ]
     },
     "execution_count": 67,
     "metadata": {},
     "output_type": "execute_result"
    }
   ],
   "source": [
    "X.head()"
   ]
  },
  {
   "cell_type": "code",
   "execution_count": 68,
   "id": "3a1de926-a6bd-43f6-ba20-80a350faa06a",
   "metadata": {},
   "outputs": [],
   "source": [
    "X_train , X_test , y_train , y_test = train_test_split(X,y,test_size=0.2 , random_state=42)"
   ]
  },
  {
   "cell_type": "markdown",
   "id": "0039f707-cda0-4ef7-84c2-0f8ae816016f",
   "metadata": {},
   "source": [
    "# Linear Regression "
   ]
  },
  {
   "cell_type": "code",
   "execution_count": 69,
   "id": "3ef103af-6201-425e-aae5-1e31a1928d61",
   "metadata": {},
   "outputs": [],
   "source": [
    "reg=LinearRegression()\n",
    "reg = reg.fit(X_train,y_train)\n",
    "y_pred = reg.predict(X_test)"
   ]
  },
  {
   "cell_type": "code",
   "execution_count": null,
   "id": "fdc61c8c-6c64-490d-9203-a196566001d7",
   "metadata": {},
   "outputs": [],
   "source": []
  },
  {
   "cell_type": "code",
   "execution_count": null,
   "id": "27461815-5616-498b-bfae-01331b9e0c54",
   "metadata": {},
   "outputs": [],
   "source": []
  },
  {
   "cell_type": "code",
   "execution_count": null,
   "id": "f8d7462c-19bb-448e-bbe1-1e981ebb6ec0",
   "metadata": {},
   "outputs": [],
   "source": []
  }
 ],
 "metadata": {
  "kernelspec": {
   "display_name": "Python 3 (ipykernel)",
   "language": "python",
   "name": "python3"
  },
  "language_info": {
   "codemirror_mode": {
    "name": "ipython",
    "version": 3
   },
   "file_extension": ".py",
   "mimetype": "text/x-python",
   "name": "python",
   "nbconvert_exporter": "python",
   "pygments_lexer": "ipython3",
   "version": "3.9.13"
  }
 },
 "nbformat": 4,
 "nbformat_minor": 5
}
